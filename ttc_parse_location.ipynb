{
 "cells": [
  {
   "cell_type": "code",
   "execution_count": 1,
   "metadata": {},
   "outputs": [],
   "source": [
    "import pandas \n",
    "import numpy\n",
    "import requests\n",
    "import urllib.parse\n",
    "\n",
    "# https://www.kaggle.com/datasets/reihanenamdari/toronto-bus-delay-2022/"
   ]
  },
  {
   "cell_type": "code",
   "execution_count": 8,
   "metadata": {},
   "outputs": [
    {
     "name": "stdout",
     "output_type": "stream",
     "text": [
      "43.6566724\n",
      "-79.3804743\n"
     ]
    }
   ],
   "source": [
    "location = 'Yonge And Dundas'\n",
    "url = 'https://nominatim.openstreetmap.org/search?q='+location.replace(' ', '+') + '&format=json'\n",
    "\n",
    "response = requests.get(url).json()\n",
    "print(response[0][\"lat\"])\n",
    "print(response[0][\"lon\"])"
   ]
  },
  {
   "cell_type": "code",
   "execution_count": null,
   "metadata": {},
   "outputs": [],
   "source": [
    "import pandas as pd\n",
    "import geopy\n",
    "from geopy.geocoders import Nominatim\n",
    "from functools import partial\n",
    "from geopy.extra.rate_limiter import RateLimiter\n",
    "\n",
    "# create a geolocator object with a custom user_agent\n",
    "geolocator = Nominatim(user_agent=\"my-application\")\n",
    "\n",
    "# create a rate_limited function that wraps the geolocator.geocode method\n",
    "rate_limited = RateLimiter(geolocator.geocode, min_delay_seconds=1)\n",
    "\n",
    "# read the data from a CSV file into a pandas DataFrame\n",
    "df = pd.read_csv(\"locations.csv\")\n",
    "\n",
    "# apply the rate_limited function to the column of locations and store the results in a new column\n",
    "df[\"result\"] = df[\"location\"].apply(partial(rate_limited, timeout=1000))\n",
    "\n",
    "# extract the latitude and longitude from the results and store them in separate columns\n",
    "df[\"latitude\"] = df[\"result\"].apply(lambda x: x.latitude if x else None)\n",
    "df[\"longitude\"] = df[\"result\"].apply(lambda x: x.longitude if x else None)\n",
    "\n",
    "# write the DataFrame to an Excel file\n",
    "df.to_excel(\"coordinates.xlsx\")\n"
   ]
  }
 ],
 "metadata": {
  "kernelspec": {
   "display_name": "Python 3",
   "language": "python",
   "name": "python3"
  },
  "language_info": {
   "codemirror_mode": {
    "name": "ipython",
    "version": 3
   },
   "file_extension": ".py",
   "mimetype": "text/x-python",
   "name": "python",
   "nbconvert_exporter": "python",
   "pygments_lexer": "ipython3",
   "version": "3.10.7"
  },
  "orig_nbformat": 4
 },
 "nbformat": 4,
 "nbformat_minor": 2
}
