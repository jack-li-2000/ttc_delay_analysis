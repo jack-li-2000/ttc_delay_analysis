{
 "cells": [
  {
   "cell_type": "code",
   "execution_count": 1,
   "metadata": {},
   "outputs": [],
   "source": [
    "import pandas as pd\n",
    "import numpy as np\n",
    "import requests\n",
    "import zipfile \n",
    "import kaggle   \n",
    "\n",
    "\n",
    "# https://open.toronto.ca/dataset/ttc-bus-delay-data/"
   ]
  },
  {
   "cell_type": "code",
   "execution_count": 2,
   "metadata": {},
   "outputs": [],
   "source": [
    "# toronto Open Data is stored in a CKAN instance. It's APIs are documented here:\n",
    "# https://docs.ckan.org/en/latest/api/\n",
    "\n",
    "# to hit our API, the URL is:\n",
    "base_url = \"https://ckan0.cf.opendata.inter.prod-toronto.ca\"\n",
    "\n",
    "# datasets are called \"packages\". Each package can contain many \"resources\"\n",
    "# to retrieve the metadata for this package and its resources, use the package name in this page's URL:\n",
    "url = base_url + \"/api/3/action/package_show\"\n",
    "params = { \"id\": \"ttc-bus-delay-data\"}\n",
    "package = requests.get(url, params = params).json()\n",
    "\n",
    "# to get resource data:\n",
    "for idx, resource in enumerate(package[\"result\"][\"resources\"]):\n",
    "\n",
    "    # to get metadata for non datastore_active resources:\n",
    "    if not resource[\"datastore_active\"]:\n",
    "        url = base_url + \"/api/3/action/resource_show?id=\" + resource[\"id\"]\n",
    "        resource_metadata = requests.get(url).json()\n",
    "        \n",
    "        # use the \"url\" attribute to download this file\n"
   ]
  },
  {
   "cell_type": "code",
   "execution_count": 21,
   "metadata": {},
   "outputs": [
    {
     "name": "stderr",
     "output_type": "stream",
     "text": [
      "C:\\Users\\42069v3\\AppData\\Local\\Temp\\ipykernel_24672\\2946537227.py:1: UserWarning: Could not infer format, so each element will be parsed individually, falling back to `dateutil`. To ensure parsing is consistent and as-expected, please specify a format.\n",
      "  ttc_delay = pd.read_excel(resource_metadata['result']['url'], parse_dates=[['Date','Time']])\n"
     ]
    }
   ],
   "source": [
    "# read in data and parse datetime from separate date and time columns\n",
    "\n",
    "ttc_delay = pd.read_excel(resource_metadata['result']['url'], parse_dates=[['Date','Time']])"
   ]
  },
  {
   "cell_type": "code",
   "execution_count": 22,
   "metadata": {},
   "outputs": [
    {
     "data": {
      "text/html": [
       "<div>\n",
       "<style scoped>\n",
       "    .dataframe tbody tr th:only-of-type {\n",
       "        vertical-align: middle;\n",
       "    }\n",
       "\n",
       "    .dataframe tbody tr th {\n",
       "        vertical-align: top;\n",
       "    }\n",
       "\n",
       "    .dataframe thead th {\n",
       "        text-align: right;\n",
       "    }\n",
       "</style>\n",
       "<table border=\"1\" class=\"dataframe\">\n",
       "  <thead>\n",
       "    <tr style=\"text-align: right;\">\n",
       "      <th></th>\n",
       "      <th>Date_Time</th>\n",
       "      <th>Route</th>\n",
       "      <th>Day</th>\n",
       "      <th>Location</th>\n",
       "      <th>Incident</th>\n",
       "      <th>Min Delay</th>\n",
       "      <th>Min Gap</th>\n",
       "      <th>Direction</th>\n",
       "      <th>Vehicle</th>\n",
       "    </tr>\n",
       "  </thead>\n",
       "  <tbody>\n",
       "    <tr>\n",
       "      <th>0</th>\n",
       "      <td>2023-01-01 02:30:00</td>\n",
       "      <td>91</td>\n",
       "      <td>Sunday</td>\n",
       "      <td>WOODBINE AND MORTIMER</td>\n",
       "      <td>Diversion</td>\n",
       "      <td>81</td>\n",
       "      <td>111</td>\n",
       "      <td>NaN</td>\n",
       "      <td>8772</td>\n",
       "    </tr>\n",
       "    <tr>\n",
       "      <th>1</th>\n",
       "      <td>2023-01-01 02:34:00</td>\n",
       "      <td>69</td>\n",
       "      <td>Sunday</td>\n",
       "      <td>WARDEN STATION</td>\n",
       "      <td>Security</td>\n",
       "      <td>22</td>\n",
       "      <td>44</td>\n",
       "      <td>S</td>\n",
       "      <td>8407</td>\n",
       "    </tr>\n",
       "    <tr>\n",
       "      <th>2</th>\n",
       "      <td>2023-01-01 03:06:00</td>\n",
       "      <td>35</td>\n",
       "      <td>Sunday</td>\n",
       "      <td>JANE STATION</td>\n",
       "      <td>Cleaning - Unsanitary</td>\n",
       "      <td>30</td>\n",
       "      <td>60</td>\n",
       "      <td>N</td>\n",
       "      <td>1051</td>\n",
       "    </tr>\n",
       "    <tr>\n",
       "      <th>3</th>\n",
       "      <td>2023-01-01 03:14:00</td>\n",
       "      <td>900</td>\n",
       "      <td>Sunday</td>\n",
       "      <td>KIPLING STATION</td>\n",
       "      <td>Security</td>\n",
       "      <td>17</td>\n",
       "      <td>17</td>\n",
       "      <td>NaN</td>\n",
       "      <td>3334</td>\n",
       "    </tr>\n",
       "    <tr>\n",
       "      <th>4</th>\n",
       "      <td>2023-01-01 03:43:00</td>\n",
       "      <td>85</td>\n",
       "      <td>Sunday</td>\n",
       "      <td>MEADOWALE LOOP</td>\n",
       "      <td>Security</td>\n",
       "      <td>1</td>\n",
       "      <td>1</td>\n",
       "      <td>NaN</td>\n",
       "      <td>1559</td>\n",
       "    </tr>\n",
       "  </tbody>\n",
       "</table>\n",
       "</div>"
      ],
      "text/plain": [
       "            Date_Time Route     Day               Location   \n",
       "0 2023-01-01 02:30:00    91  Sunday  WOODBINE AND MORTIMER  \\\n",
       "1 2023-01-01 02:34:00    69  Sunday         WARDEN STATION   \n",
       "2 2023-01-01 03:06:00    35  Sunday           JANE STATION   \n",
       "3 2023-01-01 03:14:00   900  Sunday        KIPLING STATION   \n",
       "4 2023-01-01 03:43:00    85  Sunday         MEADOWALE LOOP   \n",
       "\n",
       "                Incident  Min Delay  Min Gap Direction  Vehicle  \n",
       "0              Diversion         81      111       NaN     8772  \n",
       "1               Security         22       44         S     8407  \n",
       "2  Cleaning - Unsanitary         30       60         N     1051  \n",
       "3               Security         17       17       NaN     3334  \n",
       "4               Security          1        1       NaN     1559  "
      ]
     },
     "execution_count": 22,
     "metadata": {},
     "output_type": "execute_result"
    }
   ],
   "source": [
    "ttc_delay.head()"
   ]
  },
  {
   "cell_type": "code",
   "execution_count": 5,
   "metadata": {},
   "outputs": [
    {
     "data": {
      "text/html": [
       "<div>\n",
       "<style scoped>\n",
       "    .dataframe tbody tr th:only-of-type {\n",
       "        vertical-align: middle;\n",
       "    }\n",
       "\n",
       "    .dataframe tbody tr th {\n",
       "        vertical-align: top;\n",
       "    }\n",
       "\n",
       "    .dataframe thead th {\n",
       "        text-align: right;\n",
       "    }\n",
       "</style>\n",
       "<table border=\"1\" class=\"dataframe\">\n",
       "  <thead>\n",
       "    <tr style=\"text-align: right;\">\n",
       "      <th></th>\n",
       "      <th>Date</th>\n",
       "      <th>Min Delay</th>\n",
       "      <th>Min Gap</th>\n",
       "      <th>Vehicle</th>\n",
       "    </tr>\n",
       "  </thead>\n",
       "  <tbody>\n",
       "    <tr>\n",
       "      <th>count</th>\n",
       "      <td>34981</td>\n",
       "      <td>34981.000000</td>\n",
       "      <td>34981.00000</td>\n",
       "      <td>34981.000000</td>\n",
       "    </tr>\n",
       "    <tr>\n",
       "      <th>mean</th>\n",
       "      <td>2023-05-07 23:25:42.563105536</td>\n",
       "      <td>20.823418</td>\n",
       "      <td>33.46611</td>\n",
       "      <td>5499.208685</td>\n",
       "    </tr>\n",
       "    <tr>\n",
       "      <th>min</th>\n",
       "      <td>2023-01-01 00:00:00</td>\n",
       "      <td>0.000000</td>\n",
       "      <td>0.00000</td>\n",
       "      <td>0.000000</td>\n",
       "    </tr>\n",
       "    <tr>\n",
       "      <th>25%</th>\n",
       "      <td>2023-03-05 00:00:00</td>\n",
       "      <td>8.000000</td>\n",
       "      <td>16.00000</td>\n",
       "      <td>3130.000000</td>\n",
       "    </tr>\n",
       "    <tr>\n",
       "      <th>50%</th>\n",
       "      <td>2023-05-10 00:00:00</td>\n",
       "      <td>11.000000</td>\n",
       "      <td>21.00000</td>\n",
       "      <td>7924.000000</td>\n",
       "    </tr>\n",
       "    <tr>\n",
       "      <th>75%</th>\n",
       "      <td>2023-07-12 00:00:00</td>\n",
       "      <td>20.000000</td>\n",
       "      <td>40.00000</td>\n",
       "      <td>8547.000000</td>\n",
       "    </tr>\n",
       "    <tr>\n",
       "      <th>max</th>\n",
       "      <td>2023-08-31 00:00:00</td>\n",
       "      <td>998.000000</td>\n",
       "      <td>992.00000</td>\n",
       "      <td>91024.000000</td>\n",
       "    </tr>\n",
       "    <tr>\n",
       "      <th>std</th>\n",
       "      <td>NaN</td>\n",
       "      <td>53.451456</td>\n",
       "      <td>55.58887</td>\n",
       "      <td>3847.960427</td>\n",
       "    </tr>\n",
       "  </tbody>\n",
       "</table>\n",
       "</div>"
      ],
      "text/plain": [
       "                                Date     Min Delay      Min Gap       Vehicle\n",
       "count                          34981  34981.000000  34981.00000  34981.000000\n",
       "mean   2023-05-07 23:25:42.563105536     20.823418     33.46611   5499.208685\n",
       "min              2023-01-01 00:00:00      0.000000      0.00000      0.000000\n",
       "25%              2023-03-05 00:00:00      8.000000     16.00000   3130.000000\n",
       "50%              2023-05-10 00:00:00     11.000000     21.00000   7924.000000\n",
       "75%              2023-07-12 00:00:00     20.000000     40.00000   8547.000000\n",
       "max              2023-08-31 00:00:00    998.000000    992.00000  91024.000000\n",
       "std                              NaN     53.451456     55.58887   3847.960427"
      ]
     },
     "execution_count": 5,
     "metadata": {},
     "output_type": "execute_result"
    }
   ],
   "source": [
    "# get basic description of dataset\n",
    "\n",
    "ttc_delay.describe()"
   ]
  },
  {
   "cell_type": "code",
   "execution_count": 6,
   "metadata": {},
   "outputs": [
    {
     "data": {
      "text/plain": [
       "(34981, 10)"
      ]
     },
     "execution_count": 6,
     "metadata": {},
     "output_type": "execute_result"
    }
   ],
   "source": [
    "# check shape of dataset\n",
    "\n",
    "ttc_delay.shape"
   ]
  },
  {
   "cell_type": "code",
   "execution_count": 7,
   "metadata": {},
   "outputs": [
    {
     "name": "stdout",
     "output_type": "stream",
     "text": [
      "<class 'pandas.core.frame.DataFrame'>\n",
      "RangeIndex: 34981 entries, 0 to 34980\n",
      "Data columns (total 10 columns):\n",
      " #   Column     Non-Null Count  Dtype         \n",
      "---  ------     --------------  -----         \n",
      " 0   Date       34981 non-null  datetime64[ns]\n",
      " 1   Route      34609 non-null  object        \n",
      " 2   Time       34981 non-null  object        \n",
      " 3   Day        34981 non-null  object        \n",
      " 4   Location   34981 non-null  object        \n",
      " 5   Incident   34981 non-null  object        \n",
      " 6   Min Delay  34981 non-null  int64         \n",
      " 7   Min Gap    34981 non-null  int64         \n",
      " 8   Direction  28412 non-null  object        \n",
      " 9   Vehicle    34981 non-null  int64         \n",
      "dtypes: datetime64[ns](1), int64(3), object(6)\n",
      "memory usage: 2.7+ MB\n"
     ]
    }
   ],
   "source": [
    "# get idea of how many nulls there are in dataset\n",
    "\n",
    "ttc_delay.info()"
   ]
  },
  {
   "cell_type": "code",
   "execution_count": 8,
   "metadata": {},
   "outputs": [
    {
     "data": {
      "text/plain": [
       "Incident\n",
       "Mechanical                          12509\n",
       "Operations - Operator                6050\n",
       "Security                             3225\n",
       "Collision - TTC                      2599\n",
       "Diversion                            2376\n",
       "General Delay                        2047\n",
       "Emergency Services                   1953\n",
       "Utilized Off Route                   1464\n",
       "Cleaning - Unsanitary                1292\n",
       "Investigation                         814\n",
       "Vision                                416\n",
       "Road Blocked - NON-TTC Collision      190\n",
       "Held By                                46\n",
       "Name: count, dtype: int64"
      ]
     },
     "execution_count": 8,
     "metadata": {},
     "output_type": "execute_result"
    }
   ],
   "source": [
    "# count unique values in incident type \n",
    "\n",
    "ttc_delay.Incident.value_counts()"
   ]
  },
  {
   "cell_type": "code",
   "execution_count": 9,
   "metadata": {},
   "outputs": [
    {
     "data": {
      "text/plain": [
       "Location\n",
       "KENNEDY STATION           740\n",
       "KIPLING STATION           672\n",
       "FINCH STATION             605\n",
       "WILSON STATION            593\n",
       "PIONEER VILLAGE STATIO    551\n",
       "                         ... \n",
       "STEELES AND BARMARC         1\n",
       "PRINCES' BLVD AND NOVA      1\n",
       "YORK MILLS AND              1\n",
       "MCOWAN AND HWY 7            1\n",
       "PORT UNION RD AND LAWR      1\n",
       "Name: count, Length: 8485, dtype: int64"
      ]
     },
     "execution_count": 9,
     "metadata": {},
     "output_type": "execute_result"
    }
   ],
   "source": [
    "# count unique values in delay location\n",
    "\n",
    "ttc_delay.Location.value_counts()"
   ]
  },
  {
   "cell_type": "code",
   "execution_count": 26,
   "metadata": {},
   "outputs": [],
   "source": [
    "# preparing for tableau \n",
    "\n",
    "ttc_delay['Date'] = pd.to_datetime(ttc_delay['Date_Time']).dt.date\n",
    "ttc_delay['Time'] = pd.to_datetime(ttc_delay['Date_Time']).dt.time"
   ]
  },
  {
   "cell_type": "code",
   "execution_count": 27,
   "metadata": {},
   "outputs": [
    {
     "data": {
      "text/html": [
       "<div>\n",
       "<style scoped>\n",
       "    .dataframe tbody tr th:only-of-type {\n",
       "        vertical-align: middle;\n",
       "    }\n",
       "\n",
       "    .dataframe tbody tr th {\n",
       "        vertical-align: top;\n",
       "    }\n",
       "\n",
       "    .dataframe thead th {\n",
       "        text-align: right;\n",
       "    }\n",
       "</style>\n",
       "<table border=\"1\" class=\"dataframe\">\n",
       "  <thead>\n",
       "    <tr style=\"text-align: right;\">\n",
       "      <th></th>\n",
       "      <th>Date_Time</th>\n",
       "      <th>Route</th>\n",
       "      <th>Day</th>\n",
       "      <th>Location</th>\n",
       "      <th>Incident</th>\n",
       "      <th>Min Delay</th>\n",
       "      <th>Min Gap</th>\n",
       "      <th>Direction</th>\n",
       "      <th>Vehicle</th>\n",
       "      <th>Date</th>\n",
       "      <th>Time</th>\n",
       "    </tr>\n",
       "  </thead>\n",
       "  <tbody>\n",
       "    <tr>\n",
       "      <th>0</th>\n",
       "      <td>2023-01-01 02:30:00</td>\n",
       "      <td>91</td>\n",
       "      <td>Sunday</td>\n",
       "      <td>WOODBINE AND MORTIMER</td>\n",
       "      <td>Diversion</td>\n",
       "      <td>81</td>\n",
       "      <td>111</td>\n",
       "      <td>NaN</td>\n",
       "      <td>8772</td>\n",
       "      <td>2023-01-01</td>\n",
       "      <td>02:30:00</td>\n",
       "    </tr>\n",
       "    <tr>\n",
       "      <th>1</th>\n",
       "      <td>2023-01-01 02:34:00</td>\n",
       "      <td>69</td>\n",
       "      <td>Sunday</td>\n",
       "      <td>WARDEN STATION</td>\n",
       "      <td>Security</td>\n",
       "      <td>22</td>\n",
       "      <td>44</td>\n",
       "      <td>S</td>\n",
       "      <td>8407</td>\n",
       "      <td>2023-01-01</td>\n",
       "      <td>02:34:00</td>\n",
       "    </tr>\n",
       "    <tr>\n",
       "      <th>2</th>\n",
       "      <td>2023-01-01 03:06:00</td>\n",
       "      <td>35</td>\n",
       "      <td>Sunday</td>\n",
       "      <td>JANE STATION</td>\n",
       "      <td>Cleaning - Unsanitary</td>\n",
       "      <td>30</td>\n",
       "      <td>60</td>\n",
       "      <td>N</td>\n",
       "      <td>1051</td>\n",
       "      <td>2023-01-01</td>\n",
       "      <td>03:06:00</td>\n",
       "    </tr>\n",
       "    <tr>\n",
       "      <th>3</th>\n",
       "      <td>2023-01-01 03:14:00</td>\n",
       "      <td>900</td>\n",
       "      <td>Sunday</td>\n",
       "      <td>KIPLING STATION</td>\n",
       "      <td>Security</td>\n",
       "      <td>17</td>\n",
       "      <td>17</td>\n",
       "      <td>NaN</td>\n",
       "      <td>3334</td>\n",
       "      <td>2023-01-01</td>\n",
       "      <td>03:14:00</td>\n",
       "    </tr>\n",
       "    <tr>\n",
       "      <th>4</th>\n",
       "      <td>2023-01-01 03:43:00</td>\n",
       "      <td>85</td>\n",
       "      <td>Sunday</td>\n",
       "      <td>MEADOWALE LOOP</td>\n",
       "      <td>Security</td>\n",
       "      <td>1</td>\n",
       "      <td>1</td>\n",
       "      <td>NaN</td>\n",
       "      <td>1559</td>\n",
       "      <td>2023-01-01</td>\n",
       "      <td>03:43:00</td>\n",
       "    </tr>\n",
       "  </tbody>\n",
       "</table>\n",
       "</div>"
      ],
      "text/plain": [
       "            Date_Time Route     Day               Location   \n",
       "0 2023-01-01 02:30:00    91  Sunday  WOODBINE AND MORTIMER  \\\n",
       "1 2023-01-01 02:34:00    69  Sunday         WARDEN STATION   \n",
       "2 2023-01-01 03:06:00    35  Sunday           JANE STATION   \n",
       "3 2023-01-01 03:14:00   900  Sunday        KIPLING STATION   \n",
       "4 2023-01-01 03:43:00    85  Sunday         MEADOWALE LOOP   \n",
       "\n",
       "                Incident  Min Delay  Min Gap Direction  Vehicle        Date   \n",
       "0              Diversion         81      111       NaN     8772  2023-01-01  \\\n",
       "1               Security         22       44         S     8407  2023-01-01   \n",
       "2  Cleaning - Unsanitary         30       60         N     1051  2023-01-01   \n",
       "3               Security         17       17       NaN     3334  2023-01-01   \n",
       "4               Security          1        1       NaN     1559  2023-01-01   \n",
       "\n",
       "       Time  \n",
       "0  02:30:00  \n",
       "1  02:34:00  \n",
       "2  03:06:00  \n",
       "3  03:14:00  \n",
       "4  03:43:00  "
      ]
     },
     "execution_count": 27,
     "metadata": {},
     "output_type": "execute_result"
    }
   ],
   "source": [
    "ttc_delay.head()"
   ]
  },
  {
   "cell_type": "code",
   "execution_count": 25,
   "metadata": {},
   "outputs": [],
   "source": [
    "ttc_delay.to_excel('ttc_delay_2023.xlsx', sheet_name='Data')"
   ]
  },
  {
   "cell_type": "code",
   "execution_count": null,
   "metadata": {},
   "outputs": [],
   "source": [
    "# correlation plot and EDA"
   ]
  }
 ],
 "metadata": {
  "kernelspec": {
   "display_name": "Python 3",
   "language": "python",
   "name": "python3"
  },
  "language_info": {
   "codemirror_mode": {
    "name": "ipython",
    "version": 3
   },
   "file_extension": ".py",
   "mimetype": "text/x-python",
   "name": "python",
   "nbconvert_exporter": "python",
   "pygments_lexer": "ipython3",
   "version": "3.11.3"
  },
  "orig_nbformat": 4
 },
 "nbformat": 4,
 "nbformat_minor": 2
}
