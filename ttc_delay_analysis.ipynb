{
 "cells": [
  {
   "cell_type": "code",
   "execution_count": 1,
   "metadata": {},
   "outputs": [],
   "source": [
    "import pandas as pd\n",
    "import numpy as np\n",
    "import requests\n",
    " \n",
    "\n",
    "\n",
    "# https://open.toronto.ca/dataset/ttc-bus-delay-data/"
   ]
  },
  {
   "cell_type": "markdown",
   "metadata": {},
   "source": [
    "#### Get data from toronto TTC open data resource API"
   ]
  },
  {
   "cell_type": "code",
   "execution_count": 2,
   "metadata": {},
   "outputs": [],
   "source": [
    "# toronto Open Data is stored in a CKAN instance. It's APIs are documented here:\n",
    "# https://docs.ckan.org/en/latest/api/\n",
    "\n",
    "# to hit our API, the URL is:\n",
    "base_url = \"https://ckan0.cf.opendata.inter.prod-toronto.ca\"\n",
    "\n",
    "# datasets are called \"packages\". Each package can contain many \"resources\"\n",
    "# to retrieve the metadata for this package and its resources, use the package name in this page's URL:\n",
    "url = base_url + \"/api/3/action/package_show\"\n",
    "params = { \"id\": \"ttc-bus-delay-data\"}\n",
    "package = requests.get(url, params = params).json()\n",
    "\n",
    "# to get resource data:\n",
    "\n",
    "resource_list = []\n",
    "\n",
    "for idx, resource in enumerate(package[\"result\"][\"resources\"]):\n",
    "\n",
    "    # to get metadata for non datastore_active resources:\n",
    "    if not resource[\"datastore_active\"]:\n",
    "        url = base_url + \"/api/3/action/resource_show?id=\" + resource[\"id\"]\n",
    "        resource_metadata = requests.get(url).json()\n",
    "\n",
    "        resource_list.append(resource_metadata)\n",
    "        \n",
    "        # use the \"url\" attribute to download this file\n"
   ]
  },
  {
   "cell_type": "markdown",
   "metadata": {},
   "source": [
    "#### Get the previous FULL year's dataset e.g. if this year is 2023, get 2022's data since it has the full year."
   ]
  },
  {
   "cell_type": "code",
   "execution_count": 3,
   "metadata": {},
   "outputs": [
    {
     "name": "stderr",
     "output_type": "stream",
     "text": [
      "C:\\Users\\42069v3\\AppData\\Local\\Temp\\ipykernel_19180\\3273399316.py:3: UserWarning: Could not infer format, so each element will be parsed individually, falling back to `dateutil`. To ensure parsing is consistent and as-expected, please specify a format.\n",
      "  ttc_delay = pd.read_excel(resource_list[-2]['result']['url'], parse_dates=[['Date','Time']])\n"
     ]
    }
   ],
   "source": [
    "# read in data and parse datetime from separate date and time columns\n",
    "\n",
    "ttc_delay = pd.read_excel(resource_list[-2]['result']['url'], parse_dates=[['Date','Time']])"
   ]
  },
  {
   "cell_type": "code",
   "execution_count": 4,
   "metadata": {},
   "outputs": [
    {
     "data": {
      "text/html": [
       "<div>\n",
       "<style scoped>\n",
       "    .dataframe tbody tr th:only-of-type {\n",
       "        vertical-align: middle;\n",
       "    }\n",
       "\n",
       "    .dataframe tbody tr th {\n",
       "        vertical-align: top;\n",
       "    }\n",
       "\n",
       "    .dataframe thead th {\n",
       "        text-align: right;\n",
       "    }\n",
       "</style>\n",
       "<table border=\"1\" class=\"dataframe\">\n",
       "  <thead>\n",
       "    <tr style=\"text-align: right;\">\n",
       "      <th></th>\n",
       "      <th>Date_Time</th>\n",
       "      <th>Route</th>\n",
       "      <th>Day</th>\n",
       "      <th>Location</th>\n",
       "      <th>Incident</th>\n",
       "      <th>Min Delay</th>\n",
       "      <th>Min Gap</th>\n",
       "      <th>Direction</th>\n",
       "      <th>Vehicle</th>\n",
       "    </tr>\n",
       "  </thead>\n",
       "  <tbody>\n",
       "    <tr>\n",
       "      <th>0</th>\n",
       "      <td>2022-01-01 02:00:00</td>\n",
       "      <td>320</td>\n",
       "      <td>Saturday</td>\n",
       "      <td>YONGE AND DUNDAS</td>\n",
       "      <td>General Delay</td>\n",
       "      <td>0</td>\n",
       "      <td>0</td>\n",
       "      <td>NaN</td>\n",
       "      <td>8531</td>\n",
       "    </tr>\n",
       "    <tr>\n",
       "      <th>1</th>\n",
       "      <td>2022-01-01 02:00:00</td>\n",
       "      <td>325</td>\n",
       "      <td>Saturday</td>\n",
       "      <td>OVERLEA AND THORCLIFFE</td>\n",
       "      <td>Diversion</td>\n",
       "      <td>131</td>\n",
       "      <td>161</td>\n",
       "      <td>W</td>\n",
       "      <td>8658</td>\n",
       "    </tr>\n",
       "    <tr>\n",
       "      <th>2</th>\n",
       "      <td>2022-01-01 02:00:00</td>\n",
       "      <td>320</td>\n",
       "      <td>Saturday</td>\n",
       "      <td>YONGE AND STEELES</td>\n",
       "      <td>Operations - Operator</td>\n",
       "      <td>17</td>\n",
       "      <td>20</td>\n",
       "      <td>S</td>\n",
       "      <td>0</td>\n",
       "    </tr>\n",
       "    <tr>\n",
       "      <th>3</th>\n",
       "      <td>2022-01-01 02:07:00</td>\n",
       "      <td>320</td>\n",
       "      <td>Saturday</td>\n",
       "      <td>YONGE AND STEELES</td>\n",
       "      <td>Operations - Operator</td>\n",
       "      <td>4</td>\n",
       "      <td>11</td>\n",
       "      <td>S</td>\n",
       "      <td>0</td>\n",
       "    </tr>\n",
       "    <tr>\n",
       "      <th>4</th>\n",
       "      <td>2022-01-01 02:13:00</td>\n",
       "      <td>320</td>\n",
       "      <td>Saturday</td>\n",
       "      <td>YONGE AND STEELES</td>\n",
       "      <td>Operations - Operator</td>\n",
       "      <td>4</td>\n",
       "      <td>8</td>\n",
       "      <td>S</td>\n",
       "      <td>0</td>\n",
       "    </tr>\n",
       "    <tr>\n",
       "      <th>...</th>\n",
       "      <td>...</td>\n",
       "      <td>...</td>\n",
       "      <td>...</td>\n",
       "      <td>...</td>\n",
       "      <td>...</td>\n",
       "      <td>...</td>\n",
       "      <td>...</td>\n",
       "      <td>...</td>\n",
       "      <td>...</td>\n",
       "    </tr>\n",
       "    <tr>\n",
       "      <th>58702</th>\n",
       "      <td>2022-12-31 23:21:00</td>\n",
       "      <td>32</td>\n",
       "      <td>Saturday</td>\n",
       "      <td>EGLINTON AND EDITH (W</td>\n",
       "      <td>Mechanical</td>\n",
       "      <td>2</td>\n",
       "      <td>24</td>\n",
       "      <td>W</td>\n",
       "      <td>1085</td>\n",
       "    </tr>\n",
       "    <tr>\n",
       "      <th>58703</th>\n",
       "      <td>2022-12-31 23:28:00</td>\n",
       "      <td>113</td>\n",
       "      <td>Saturday</td>\n",
       "      <td>DANFORTH AND DAWES</td>\n",
       "      <td>Vision</td>\n",
       "      <td>20</td>\n",
       "      <td>40</td>\n",
       "      <td>W</td>\n",
       "      <td>8589</td>\n",
       "    </tr>\n",
       "    <tr>\n",
       "      <th>58704</th>\n",
       "      <td>2022-12-31 23:56:00</td>\n",
       "      <td>72</td>\n",
       "      <td>Saturday</td>\n",
       "      <td>LOWER SHERBOURNE AND L</td>\n",
       "      <td>Security</td>\n",
       "      <td>18</td>\n",
       "      <td>36</td>\n",
       "      <td>N</td>\n",
       "      <td>8493</td>\n",
       "    </tr>\n",
       "    <tr>\n",
       "      <th>58705</th>\n",
       "      <td>2022-12-31 00:17:00</td>\n",
       "      <td>22</td>\n",
       "      <td>Saturday</td>\n",
       "      <td>BINGHAM LOOP</td>\n",
       "      <td>Cleaning - Unsanitary</td>\n",
       "      <td>10</td>\n",
       "      <td>20</td>\n",
       "      <td>S</td>\n",
       "      <td>8582</td>\n",
       "    </tr>\n",
       "    <tr>\n",
       "      <th>58706</th>\n",
       "      <td>2022-12-31 00:28:00</td>\n",
       "      <td>7</td>\n",
       "      <td>Saturday</td>\n",
       "      <td>BATHURST STATION</td>\n",
       "      <td>General Delay</td>\n",
       "      <td>10</td>\n",
       "      <td>20</td>\n",
       "      <td>N</td>\n",
       "      <td>8354</td>\n",
       "    </tr>\n",
       "  </tbody>\n",
       "</table>\n",
       "<p>58707 rows × 9 columns</p>\n",
       "</div>"
      ],
      "text/plain": [
       "                Date_Time Route       Day                Location   \n",
       "0     2022-01-01 02:00:00   320  Saturday        YONGE AND DUNDAS  \\\n",
       "1     2022-01-01 02:00:00   325  Saturday  OVERLEA AND THORCLIFFE   \n",
       "2     2022-01-01 02:00:00   320  Saturday       YONGE AND STEELES   \n",
       "3     2022-01-01 02:07:00   320  Saturday       YONGE AND STEELES   \n",
       "4     2022-01-01 02:13:00   320  Saturday       YONGE AND STEELES   \n",
       "...                   ...   ...       ...                     ...   \n",
       "58702 2022-12-31 23:21:00    32  Saturday   EGLINTON AND EDITH (W   \n",
       "58703 2022-12-31 23:28:00   113  Saturday      DANFORTH AND DAWES   \n",
       "58704 2022-12-31 23:56:00    72  Saturday  LOWER SHERBOURNE AND L   \n",
       "58705 2022-12-31 00:17:00    22  Saturday            BINGHAM LOOP   \n",
       "58706 2022-12-31 00:28:00     7  Saturday        BATHURST STATION   \n",
       "\n",
       "                    Incident  Min Delay  Min Gap Direction  Vehicle  \n",
       "0              General Delay          0        0       NaN     8531  \n",
       "1                  Diversion        131      161         W     8658  \n",
       "2      Operations - Operator         17       20         S        0  \n",
       "3      Operations - Operator          4       11         S        0  \n",
       "4      Operations - Operator          4        8         S        0  \n",
       "...                      ...        ...      ...       ...      ...  \n",
       "58702             Mechanical          2       24         W     1085  \n",
       "58703                 Vision         20       40         W     8589  \n",
       "58704               Security         18       36         N     8493  \n",
       "58705  Cleaning - Unsanitary         10       20         S     8582  \n",
       "58706          General Delay         10       20         N     8354  \n",
       "\n",
       "[58707 rows x 9 columns]"
      ]
     },
     "execution_count": 4,
     "metadata": {},
     "output_type": "execute_result"
    }
   ],
   "source": [
    "ttc_delay"
   ]
  },
  {
   "cell_type": "code",
   "execution_count": 5,
   "metadata": {},
   "outputs": [],
   "source": [
    "ttc_delay = ttc_delay.sort_values(by='Date_Time').reset_index()"
   ]
  },
  {
   "cell_type": "markdown",
   "metadata": {},
   "source": [
    "If Date_Time, Location, Incident, Route, Vehicle, Direction are duplicated, can infer that the min delay, min gap, are misinputs or multiple inputs. If location, direction, vehicle, route are the same, it's likely that the rows are referring to the same incident."
   ]
  },
  {
   "cell_type": "code",
   "execution_count": 6,
   "metadata": {},
   "outputs": [
    {
     "data": {
      "text/plain": [
       "0"
      ]
     },
     "execution_count": 6,
     "metadata": {},
     "output_type": "execute_result"
    }
   ],
   "source": [
    "ttc_delay = ttc_delay.drop_duplicates(subset=['Date_Time','Location', 'Incident','Route','Vehicle','Direction'])\n",
    "\n",
    "sum(ttc_delay.duplicated(subset=['Date_Time','Location', 'Incident','Route','Vehicle','Direction']))"
   ]
  },
  {
   "cell_type": "code",
   "execution_count": 7,
   "metadata": {},
   "outputs": [
    {
     "data": {
      "text/html": [
       "<div>\n",
       "<style scoped>\n",
       "    .dataframe tbody tr th:only-of-type {\n",
       "        vertical-align: middle;\n",
       "    }\n",
       "\n",
       "    .dataframe tbody tr th {\n",
       "        vertical-align: top;\n",
       "    }\n",
       "\n",
       "    .dataframe thead th {\n",
       "        text-align: right;\n",
       "    }\n",
       "</style>\n",
       "<table border=\"1\" class=\"dataframe\">\n",
       "  <thead>\n",
       "    <tr style=\"text-align: right;\">\n",
       "      <th></th>\n",
       "      <th>index</th>\n",
       "      <th>Date_Time</th>\n",
       "      <th>Min Delay</th>\n",
       "      <th>Min Gap</th>\n",
       "      <th>Vehicle</th>\n",
       "    </tr>\n",
       "  </thead>\n",
       "  <tbody>\n",
       "    <tr>\n",
       "      <th>count</th>\n",
       "      <td>58298.000000</td>\n",
       "      <td>58298</td>\n",
       "      <td>58298.000000</td>\n",
       "      <td>58298.000000</td>\n",
       "      <td>58298.000000</td>\n",
       "    </tr>\n",
       "    <tr>\n",
       "      <th>mean</th>\n",
       "      <td>29346.770335</td>\n",
       "      <td>2022-07-04 00:07:38.932381952</td>\n",
       "      <td>20.163419</td>\n",
       "      <td>32.722718</td>\n",
       "      <td>5469.564445</td>\n",
       "    </tr>\n",
       "    <tr>\n",
       "      <th>min</th>\n",
       "      <td>0.000000</td>\n",
       "      <td>2022-01-01 00:28:00</td>\n",
       "      <td>0.000000</td>\n",
       "      <td>0.000000</td>\n",
       "      <td>0.000000</td>\n",
       "    </tr>\n",
       "    <tr>\n",
       "      <th>25%</th>\n",
       "      <td>14647.250000</td>\n",
       "      <td>2022-04-06 18:04:00</td>\n",
       "      <td>9.000000</td>\n",
       "      <td>17.000000</td>\n",
       "      <td>1553.000000</td>\n",
       "    </tr>\n",
       "    <tr>\n",
       "      <th>50%</th>\n",
       "      <td>29333.500000</td>\n",
       "      <td>2022-07-12 21:00:30</td>\n",
       "      <td>11.000000</td>\n",
       "      <td>22.000000</td>\n",
       "      <td>7959.000000</td>\n",
       "    </tr>\n",
       "    <tr>\n",
       "      <th>75%</th>\n",
       "      <td>44038.750000</td>\n",
       "      <td>2022-09-27 14:29:45</td>\n",
       "      <td>20.000000</td>\n",
       "      <td>36.000000</td>\n",
       "      <td>8546.000000</td>\n",
       "    </tr>\n",
       "    <tr>\n",
       "      <th>max</th>\n",
       "      <td>58706.000000</td>\n",
       "      <td>2022-12-31 23:56:00</td>\n",
       "      <td>999.000000</td>\n",
       "      <td>999.000000</td>\n",
       "      <td>93561.000000</td>\n",
       "    </tr>\n",
       "    <tr>\n",
       "      <th>std</th>\n",
       "      <td>16957.353745</td>\n",
       "      <td>NaN</td>\n",
       "      <td>49.109166</td>\n",
       "      <td>50.796621</td>\n",
       "      <td>4361.400924</td>\n",
       "    </tr>\n",
       "  </tbody>\n",
       "</table>\n",
       "</div>"
      ],
      "text/plain": [
       "              index                      Date_Time     Min Delay   \n",
       "count  58298.000000                          58298  58298.000000  \\\n",
       "mean   29346.770335  2022-07-04 00:07:38.932381952     20.163419   \n",
       "min        0.000000            2022-01-01 00:28:00      0.000000   \n",
       "25%    14647.250000            2022-04-06 18:04:00      9.000000   \n",
       "50%    29333.500000            2022-07-12 21:00:30     11.000000   \n",
       "75%    44038.750000            2022-09-27 14:29:45     20.000000   \n",
       "max    58706.000000            2022-12-31 23:56:00    999.000000   \n",
       "std    16957.353745                            NaN     49.109166   \n",
       "\n",
       "            Min Gap       Vehicle  \n",
       "count  58298.000000  58298.000000  \n",
       "mean      32.722718   5469.564445  \n",
       "min        0.000000      0.000000  \n",
       "25%       17.000000   1553.000000  \n",
       "50%       22.000000   7959.000000  \n",
       "75%       36.000000   8546.000000  \n",
       "max      999.000000  93561.000000  \n",
       "std       50.796621   4361.400924  "
      ]
     },
     "execution_count": 7,
     "metadata": {},
     "output_type": "execute_result"
    }
   ],
   "source": [
    "# get basic description of dataset\n",
    "\n",
    "ttc_delay.describe()"
   ]
  },
  {
   "cell_type": "code",
   "execution_count": 8,
   "metadata": {},
   "outputs": [
    {
     "data": {
      "text/plain": [
       "(58298, 10)"
      ]
     },
     "execution_count": 8,
     "metadata": {},
     "output_type": "execute_result"
    }
   ],
   "source": [
    "# check shape of dataset\n",
    "\n",
    "ttc_delay.shape"
   ]
  },
  {
   "cell_type": "code",
   "execution_count": 9,
   "metadata": {},
   "outputs": [
    {
     "name": "stdout",
     "output_type": "stream",
     "text": [
      "<class 'pandas.core.frame.DataFrame'>\n",
      "Index: 58298 entries, 0 to 58706\n",
      "Data columns (total 10 columns):\n",
      " #   Column     Non-Null Count  Dtype         \n",
      "---  ------     --------------  -----         \n",
      " 0   index      58298 non-null  int64         \n",
      " 1   Date_Time  58298 non-null  datetime64[ns]\n",
      " 2   Route      57915 non-null  object        \n",
      " 3   Day        58298 non-null  object        \n",
      " 4   Location   58298 non-null  object        \n",
      " 5   Incident   58298 non-null  object        \n",
      " 6   Min Delay  58298 non-null  int64         \n",
      " 7   Min Gap    58298 non-null  int64         \n",
      " 8   Direction  47885 non-null  object        \n",
      " 9   Vehicle    58298 non-null  int64         \n",
      "dtypes: datetime64[ns](1), int64(4), object(5)\n",
      "memory usage: 4.9+ MB\n"
     ]
    }
   ],
   "source": [
    "# get idea of how many nulls there are in dataset\n",
    "\n",
    "ttc_delay.info()"
   ]
  },
  {
   "cell_type": "code",
   "execution_count": 10,
   "metadata": {},
   "outputs": [
    {
     "data": {
      "text/plain": [
       "Incident\n",
       "Operations - Operator               19306\n",
       "Mechanical                          16384\n",
       "Collision - TTC                      3512\n",
       "Security                             3374\n",
       "Utilized Off Route                   3225\n",
       "General Delay                        3205\n",
       "Diversion                            2881\n",
       "Emergency Services                   2420\n",
       "Cleaning - Unsanitary                1548\n",
       "Investigation                         906\n",
       "Vision                                705\n",
       "Road Blocked - NON-TTC Collision      624\n",
       "Held By                               162\n",
       "Late Entering Service                  40\n",
       "Cleaning - Disinfection                 6\n",
       "Name: count, dtype: int64"
      ]
     },
     "execution_count": 10,
     "metadata": {},
     "output_type": "execute_result"
    }
   ],
   "source": [
    "# count unique values in incident type \n",
    "\n",
    "ttc_delay.Incident.value_counts()"
   ]
  },
  {
   "cell_type": "markdown",
   "metadata": {},
   "source": [
    "#### Notice that there's duplicate values that aren't counted together e.g. DUNDAS AND YONGE and YONGE AND DUNDAS. Make a method to remove this duplication."
   ]
  },
  {
   "cell_type": "code",
   "execution_count": 11,
   "metadata": {},
   "outputs": [
    {
     "data": {
      "text/plain": [
       "Location\n",
       "KENNEDY STATION           1371\n",
       "KIPLING STATION           1268\n",
       "PIONEER VILLAGE STATIO    1130\n",
       "FINCH STATION             1090\n",
       "EGLINTON STATION          1045\n",
       "                          ... \n",
       "75 COSBURN AVE               1\n",
       "SHERBOURNE AND MAPLE A       1\n",
       "SHEPPARD AND WILSON HI       1\n",
       "VICTORIA PARK AND FER        1\n",
       "EGLINTON AND EDITH (W        1\n",
       "Name: count, Length: 10028, dtype: int64"
      ]
     },
     "execution_count": 11,
     "metadata": {},
     "output_type": "execute_result"
    }
   ],
   "source": [
    "# count unique values in delay location\n",
    "\n",
    "ttc_delay.Location.value_counts()"
   ]
  },
  {
   "cell_type": "code",
   "execution_count": 12,
   "metadata": {},
   "outputs": [
    {
     "data": {
      "text/plain": [
       "Location\n",
       "KENNEDY STATION           1371\n",
       "KIPLING STATION           1268\n",
       "PIONEER VILLAGE STATIO    1130\n",
       "FINCH STATION             1090\n",
       "EGLINTON STATION          1045\n",
       "                          ... \n",
       "518 ELLERSLIE AVE            1\n",
       "OVERSKATE AND WILSON         1\n",
       "PIONEER VILLAGE STATI        1\n",
       "HUMBER TO OSSINGTON ST       1\n",
       "EDITH (W AND EGLINTON        1\n",
       "Name: count, Length: 9195, dtype: int64"
      ]
     },
     "execution_count": 12,
     "metadata": {},
     "output_type": "execute_result"
    }
   ],
   "source": [
    "def comb_add(add):\n",
    "  # combines a list of addresses into single string with AND in between\n",
    "  if len(add) == 2:\n",
    "    return add[0] + ' AND ' + add[1]\n",
    "  return add[0]\n",
    "\n",
    "ttc_delay.Location = ttc_delay.Location.str.split(' AND ')\n",
    "\n",
    "ttc_delay.Location = ttc_delay.Location.apply(sorted).apply(comb_add)\n",
    "ttc_delay.Location.value_counts()"
   ]
  },
  {
   "cell_type": "markdown",
   "metadata": {},
   "source": [
    "#### Add only date and only time for tableau fields"
   ]
  },
  {
   "cell_type": "code",
   "execution_count": 13,
   "metadata": {},
   "outputs": [],
   "source": [
    "# preparing for tableau \n",
    "\n",
    "ttc_delay['Date'] = pd.to_datetime(ttc_delay['Date_Time']).dt.date\n",
    "ttc_delay['Time'] = pd.to_datetime(ttc_delay['Date_Time']).dt.time"
   ]
  },
  {
   "cell_type": "code",
   "execution_count": 14,
   "metadata": {},
   "outputs": [],
   "source": [
    "# ttc_delay.to_excel('ttc_delay_2022.xlsx', sheet_name='Data')"
   ]
  },
  {
   "cell_type": "code",
   "execution_count": 15,
   "metadata": {},
   "outputs": [],
   "source": [
    "# correlation plot and EDA\n",
    "\n",
    "import sklearn.corr_"
   ]
  }
 ],
 "metadata": {
  "kernelspec": {
   "display_name": "Python 3",
   "language": "python",
   "name": "python3"
  },
  "language_info": {
   "codemirror_mode": {
    "name": "ipython",
    "version": 3
   },
   "file_extension": ".py",
   "mimetype": "text/x-python",
   "name": "python",
   "nbconvert_exporter": "python",
   "pygments_lexer": "ipython3",
   "version": "3.11.3"
  },
  "orig_nbformat": 4
 },
 "nbformat": 4,
 "nbformat_minor": 2
}
